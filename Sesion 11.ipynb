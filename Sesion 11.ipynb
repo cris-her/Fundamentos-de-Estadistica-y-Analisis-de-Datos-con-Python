{
 "cells": [
  {
   "cell_type": "markdown",
   "metadata": {},
   "source": [
    "# Distribuciones de Mayor Aplicacion Discretas"
   ]
  },
  {
   "cell_type": "code",
   "execution_count": 1,
   "metadata": {},
   "outputs": [],
   "source": [
    "import matplotlib.pyplot as plt\n",
    "import seaborn as sns\n",
    "%matplotlib inline"
   ]
  },
  {
   "cell_type": "markdown",
   "metadata": {},
   "source": [
    "## Distribucion de Bernouli"
   ]
  },
  {
   "cell_type": "markdown",
   "metadata": {},
   "source": [
    "Distribucion de **Bernoilli** (experimento binario asociado a exito o fracaso) modela una variable binaria  1 o 0."
   ]
  },
  {
   "cell_type": "code",
   "execution_count": 2,
   "metadata": {},
   "outputs": [
    {
     "data": {
      "text/plain": [
       "100"
      ]
     },
     "execution_count": 2,
     "metadata": {},
     "output_type": "execute_result"
    }
   ],
   "source": [
    "from scipy.stats import bernoulli\n",
    "p= 0.3 # Parametro poblacional de la distriucion (probabilidad de exito)\n",
    "data = bernoulli.rvs(p,size=100) #rvs / randomvariable sample\n",
    "len(data)"
   ]
  },
  {
   "cell_type": "code",
   "execution_count": 3,
   "metadata": {},
   "outputs": [
    {
     "data": {
      "text/plain": [
       "array([1, 0, 0, 0, 0, 1, 1, 1, 1, 0, 1, 1, 0, 1, 1, 0, 1, 0, 1, 0, 0, 0,\n",
       "       0, 0, 0, 0, 1, 0, 0, 0, 1, 0, 1, 1, 0, 0, 1, 0, 1, 1, 1, 0, 1, 0,\n",
       "       0, 0, 0, 0, 0, 1, 0, 1, 0, 1, 0, 0, 1, 0, 1, 0, 0, 1, 1, 0, 1, 0,\n",
       "       0, 0, 0, 0, 0, 0, 0, 1, 0, 1, 1, 1, 0, 1, 1, 0, 0, 0, 0, 0, 0, 0,\n",
       "       0, 0, 0, 0, 0, 0, 0, 0, 0, 0, 0, 0])"
      ]
     },
     "execution_count": 3,
     "metadata": {},
     "output_type": "execute_result"
    }
   ],
   "source": [
    "data"
   ]
  },
  {
   "cell_type": "markdown",
   "metadata": {},
   "source": [
    "##### Calculamos la media, varianza, asimetria y curtosis"
   ]
  },
  {
   "cell_type": "code",
   "execution_count": 4,
   "metadata": {},
   "outputs": [
    {
     "data": {
      "text/plain": [
       "(array(0.3), array(0.21), array(0.87287156), array(-1.23809524))"
      ]
     },
     "execution_count": 4,
     "metadata": {},
     "output_type": "execute_result"
    }
   ],
   "source": [
    "mean, var, skew, kurt = bernoulli.stats(p, moments = 'mvsk')\n",
    "mean, var, skew, kurt"
   ]
  },
  {
   "cell_type": "markdown",
   "metadata": {},
   "source": [
    "##### Graficamos"
   ]
  },
  {
   "cell_type": "code",
   "execution_count": 5,
   "metadata": {},
   "outputs": [
    {
     "data": {
      "text/plain": [
       "<matplotlib.legend.Legend at 0x7f6dfd237ca0>"
      ]
     },
     "execution_count": 5,
     "metadata": {},
     "output_type": "execute_result"
    },
    {
     "data": {
      "image/png": "[encoded data removed]",
      "text/plain": [
       "<Figure size 432x288 with 1 Axes>"
      ]
     },
     "metadata": {
      "needs_background": "light"
     },
     "output_type": "display_data"
    }
   ],
   "source": [
    "ax = sns.distplot(data, bins = 30, kde = False, color = 'blue',) #distribution plot\n",
    "ax.set(xlabel = 'Distribucion de Bernoulli', ylabel = 'Frecuencia')\n",
    "ax.axvline(x = mean,linestyle = '--', label='Media')\n",
    "ax.legend()"
   ]
  },
  {
   "cell_type": "markdown",
   "metadata": {},
   "source": [
    " "
   ]
  },
  {
   "cell_type": "markdown",
   "metadata": {},
   "source": [
    " "
   ]
  },
  {
   "cell_type": "markdown",
   "metadata": {},
   "source": [
    "## Distribucion de Binomial"
   ]
  },
  {
   "cell_type": "markdown",
   "metadata": {},
   "source": [
    "Distribucion **Binomial**: Es la suma de variables aleatorias de Bernoulli con N ensayos Bernoulli queremos contar el numero de exitos x asociados."
   ]
  },
  {
   "cell_type": "code",
   "execution_count": 6,
   "metadata": {},
   "outputs": [
    {
     "data": {
      "text/plain": [
       "100"
      ]
     },
     "execution_count": 6,
     "metadata": {},
     "output_type": "execute_result"
    }
   ],
   "source": [
    "from scipy.stats import binom\n",
    "p= 0.3 \n",
    "n = 10 #numero de intentos\n",
    "data = binom.rvs(p=p, n=n, size=100) #rvs / randomvariable sample\n",
    "len(data)"
   ]
  },
  {
   "cell_type": "code",
   "execution_count": 7,
   "metadata": {},
   "outputs": [
    {
     "data": {
      "text/plain": [
       "array([4, 3, 6, 5, 3, 2, 2, 4, 4, 1, 1, 1, 2, 5, 2, 4, 4, 1, 3, 1, 2, 3,\n",
       "       5, 2, 4, 2, 4, 5, 1, 3, 4, 1, 1, 3, 5, 2, 4, 4, 2, 2, 3, 3, 0, 2,\n",
       "       2, 3, 3, 1, 6, 3, 3, 1, 6, 2, 4, 5, 2, 5, 1, 5, 3, 3, 2, 1, 2, 3,\n",
       "       2, 1, 2, 4, 3, 4, 2, 3, 4, 2, 3, 3, 5, 4, 3, 5, 3, 3, 3, 1, 6, 3,\n",
       "       3, 3, 5, 2, 1, 2, 2, 5, 4, 5, 0, 3])"
      ]
     },
     "execution_count": 7,
     "metadata": {},
     "output_type": "execute_result"
    }
   ],
   "source": [
    "data"
   ]
  },
  {
   "cell_type": "code",
   "execution_count": 8,
   "metadata": {},
   "outputs": [
    {
     "data": {
      "text/plain": [
       "(array(3.), array(2.1), array(0.27602622), array(-0.12380952))"
      ]
     },
     "execution_count": 8,
     "metadata": {},
     "output_type": "execute_result"
    }
   ],
   "source": [
    "mean, var, skew, kurt = binom.stats(p=p, n=n, moments = 'mvsk')\n",
    "mean, var, skew, kurt"
   ]
  },
  {
   "cell_type": "code",
   "execution_count": 9,
   "metadata": {},
   "outputs": [
    {
     "data": {
      "text/plain": [
       "<matplotlib.legend.Legend at 0x7f6dfaa986d0>"
      ]
     },
     "execution_count": 9,
     "metadata": {},
     "output_type": "execute_result"
    },
    {
     "data": {
      "image/png": "[encoded data removed]",
      "text/plain": [
       "<Figure size 432x288 with 1 Axes>"
      ]
     },
     "metadata": {
      "needs_background": "light"
     },
     "output_type": "display_data"
    }
   ],
   "source": [
    "ax = sns.distplot(data, bins = 30, kde = False, color = 'blue',) #distribution plot\n",
    "ax.set(xlabel = 'Distribucion Binomial', ylabel = 'Frecuencia')\n",
    "ax.axvline(x = mean,linestyle = '--', label='Media')\n",
    "ax.legend()"
   ]
  },
  {
   "cell_type": "markdown",
   "metadata": {},
   "source": [
    " "
   ]
  },
  {
   "cell_type": "markdown",
   "metadata": {},
   "source": [
    " "
   ]
  },
  {
   "cell_type": "markdown",
   "metadata": {},
   "source": [
    "## Distribucion de Geometrica"
   ]
  },
  {
   "cell_type": "markdown",
   "metadata": {},
   "source": [
    "Distribucion **Geometrica**: Numero de ensayos x hasta 1 exito."
   ]
  },
  {
   "cell_type": "code",
   "execution_count": 10,
   "metadata": {},
   "outputs": [
    {
     "data": {
      "text/plain": [
       "100"
      ]
     },
     "execution_count": 10,
     "metadata": {},
     "output_type": "execute_result"
    }
   ],
   "source": [
    "# la  geometrica es un caso particular de la Binomial negativa\n",
    "from scipy.stats import nbinom \n",
    "p= 0.3 \n",
    "n = 1 # Para al menos 1 exito\n",
    "data = nbinom.rvs(p=p, n=n, size=100)\n",
    "len(data)"
   ]
  },
  {
   "cell_type": "code",
   "execution_count": 11,
   "metadata": {},
   "outputs": [
    {
     "data": {
      "text/plain": [
       "array([ 5,  2,  0, 11,  1,  3,  5,  5,  3,  0,  0,  4,  0,  5,  0,  6,  1,\n",
       "        0,  1,  2,  0,  3,  0,  1,  2,  1,  2,  2,  0,  0,  0,  3,  0,  1,\n",
       "        4,  3,  2,  1,  1,  1, 11,  2,  0,  0, 11, 11,  8,  3,  0,  4,  3,\n",
       "        0,  1,  0,  3,  0,  4,  4,  2,  2,  4,  0,  0,  1,  5,  4,  0,  1,\n",
       "        0,  3,  5,  0,  2,  3,  2,  1,  3,  3,  2,  5,  4,  6,  9,  2,  1,\n",
       "        4,  4,  0,  1,  2,  0,  1,  8,  5,  1,  3,  0,  0,  1,  1])"
      ]
     },
     "execution_count": 11,
     "metadata": {},
     "output_type": "execute_result"
    }
   ],
   "source": [
    "data"
   ]
  },
  {
   "cell_type": "code",
   "execution_count": 12,
   "metadata": {},
   "outputs": [
    {
     "data": {
      "text/plain": [
       "(array(2.33333333), array(7.77777778), array(2.03188864), array(6.12857143))"
      ]
     },
     "execution_count": 12,
     "metadata": {},
     "output_type": "execute_result"
    }
   ],
   "source": [
    "mean, var, skew, kurt = nbinom.stats(p=p, n=n, moments = 'mvsk')\n",
    "mean, var, skew, kurt"
   ]
  },
  {
   "cell_type": "code",
   "execution_count": 13,
   "metadata": {},
   "outputs": [
    {
     "data": {
      "text/plain": [
       "<matplotlib.legend.Legend at 0x7f6dfa9dba90>"
      ]
     },
     "execution_count": 13,
     "metadata": {},
     "output_type": "execute_result"
    },
    {
     "data": {
      "image/png": "[encoded data removed]",
      "text/plain": [
       "<Figure size 432x288 with 1 Axes>"
      ]
     },
     "metadata": {
      "needs_background": "light"
     },
     "output_type": "display_data"
    }
   ],
   "source": [
    "ax = sns.distplot(data, bins = 30, kde = False, color = 'blue',) #distribution plot\n",
    "ax.set(xlabel = 'Distribucion Geometrica', ylabel = 'Frecuencia')\n",
    "ax.axvline(x = mean,linestyle = '--', label='Media')\n",
    "ax.legend()"
   ]
  },
  {
   "cell_type": "markdown",
   "metadata": {},
   "source": [
    " La forma  responde al hecho de mayor acumulacion de probabilidad al inicio y menor al final de la variable"
   ]
  },
  {
   "cell_type": "markdown",
   "metadata": {},
   "source": [
    " "
   ]
  },
  {
   "cell_type": "markdown",
   "metadata": {},
   "source": [
    " "
   ]
  },
  {
   "cell_type": "markdown",
   "metadata": {},
   "source": [
    "## Generalizacion de la distribucion Binomial Negativa"
   ]
  },
  {
   "cell_type": "markdown",
   "metadata": {},
   "source": [
    "Distribucion **Binomial Negativa**: Es una generalizacion de la distribucion geometrica, donde vamos a contar el numero de ensayos x hasta el k-esimo exito."
   ]
  },
  {
   "cell_type": "code",
   "execution_count": 14,
   "metadata": {},
   "outputs": [
    {
     "data": {
      "text/plain": [
       "100"
      ]
     },
     "execution_count": 14,
     "metadata": {},
     "output_type": "execute_result"
    }
   ],
   "source": [
    "# la  geometrica es un caso particular de la Binomial negativa\n",
    "from scipy.stats import nbinom \n",
    "p= 0.3 \n",
    "n = 10 \n",
    "data = nbinom.rvs(p=p, n=n, size=100)\n",
    "len(data)"
   ]
  },
  {
   "cell_type": "code",
   "execution_count": 15,
   "metadata": {},
   "outputs": [
    {
     "data": {
      "text/plain": [
       "array([28, 11,  6, 17, 21, 13, 38, 12, 41, 32, 27, 15, 33, 20, 12, 35, 32,\n",
       "       47, 26, 11, 21, 31, 12, 13, 27, 19, 36, 29, 26, 28,  7, 16, 25, 19,\n",
       "       28, 17,  9, 26, 36, 16, 14, 18, 20, 12, 24, 53, 17, 17,  9, 14, 22,\n",
       "       21, 27, 19, 17, 33, 20, 12,  5, 34, 20, 23, 37, 20, 17, 27, 45, 15,\n",
       "       17, 13, 21, 20, 18, 46, 29, 33, 18, 18, 21, 11, 26, 14, 39, 16, 20,\n",
       "       39, 31, 21, 29, 14, 23, 22, 17, 14, 26, 17, 26, 26, 19, 32])"
      ]
     },
     "execution_count": 15,
     "metadata": {},
     "output_type": "execute_result"
    }
   ],
   "source": [
    "data"
   ]
  },
  {
   "cell_type": "code",
   "execution_count": 16,
   "metadata": {},
   "outputs": [
    {
     "data": {
      "text/plain": [
       "(array(23.33333333), array(77.77777778), array(0.6425396), array(0.61285714))"
      ]
     },
     "execution_count": 16,
     "metadata": {},
     "output_type": "execute_result"
    }
   ],
   "source": [
    "mean, var, skew, kurt = nbinom.stats(p=p, n=n, moments = 'mvsk')\n",
    "mean, var, skew, kurt"
   ]
  },
  {
   "cell_type": "code",
   "execution_count": 17,
   "metadata": {},
   "outputs": [
    {
     "data": {
      "text/plain": [
       "<matplotlib.legend.Legend at 0x7f6dfa90a8b0>"
      ]
     },
     "execution_count": 17,
     "metadata": {},
     "output_type": "execute_result"
    },
    {
     "data": {
      "image/png": "[encoded data removed]",
      "text/plain": [
       "<Figure size 432x288 with 1 Axes>"
      ]
     },
     "metadata": {
      "needs_background": "light"
     },
     "output_type": "display_data"
    }
   ],
   "source": [
    "ax = sns.distplot(data, bins = 30, kde = False, color = 'blue',) #distribution plot\n",
    "ax.set(xlabel = 'Distribucion Negativa', ylabel = 'Frecuencia')\n",
    "ax.axvline(x = mean,linestyle = '--', label='Media')\n",
    "ax.legend()"
   ]
  },
  {
   "cell_type": "markdown",
   "metadata": {},
   "source": [
    "## Distribucion de Poisson"
   ]
  },
  {
   "cell_type": "markdown",
   "metadata": {},
   "source": [
    "Distribucion de **Poisson**: Numero de llegadas N a una longitud de tiempo t."
   ]
  },
  {
   "cell_type": "code",
   "execution_count": 18,
   "metadata": {},
   "outputs": [
    {
     "data": {
      "text/plain": [
       "100"
      ]
     },
     "execution_count": 18,
     "metadata": {},
     "output_type": "execute_result"
    }
   ],
   "source": [
    "from scipy.stats import poisson\n",
    "\n",
    "lambda_poisson = 100\n",
    "#3 occurrencias por unidad de tiempo\n",
    "data = poisson.rvs(mu =lambda_poisson, size=100)\n",
    "# para poisson la media se define como mu\n",
    "\n",
    "len(data)"
   ]
  },
  {
   "cell_type": "code",
   "execution_count": 19,
   "metadata": {},
   "outputs": [
    {
     "data": {
      "text/plain": [
       "array([104, 110,  98, 105,  95,  95,  88,  86, 100, 102,  91, 107,  98,\n",
       "        95,  88,  88,  99,  97,  81,  86, 107,  90, 107, 121,  98, 103,\n",
       "       112,  89,  96, 107, 108,  85,  89,  90,  97,  93,  93,  87, 101,\n",
       "        98,  95,  90, 103, 104,  88, 110, 102,  94, 103,  82,  80,  93,\n",
       "        99, 104,  99, 107, 106, 101,  88,  93,  95, 106, 100, 102,  88,\n",
       "        98, 111,  99, 105,  92, 111,  92, 113,  98,  80, 100,  97,  88,\n",
       "       110, 100,  99, 110, 106, 108,  98,  88,  87,  99, 111,  99, 100,\n",
       "       108, 111, 110,  99, 104, 113,  87, 103,  94])"
      ]
     },
     "execution_count": 19,
     "metadata": {},
     "output_type": "execute_result"
    }
   ],
   "source": [
    "data"
   ]
  },
  {
   "cell_type": "code",
   "execution_count": 20,
   "metadata": {},
   "outputs": [
    {
     "data": {
      "text/plain": [
       "(array(100.), array(100.), array(0.1), array(0.01))"
      ]
     },
     "execution_count": 20,
     "metadata": {},
     "output_type": "execute_result"
    }
   ],
   "source": [
    "mean, var, skew, kurt = poisson.stats(mu=lambda_poisson, moments = 'mvsk')\n",
    "mean, var, skew, kurt"
   ]
  },
  {
   "cell_type": "code",
   "execution_count": 21,
   "metadata": {},
   "outputs": [
    {
     "data": {
      "text/plain": [
       "<matplotlib.legend.Legend at 0x7f6dfa81eeb0>"
      ]
     },
     "execution_count": 21,
     "metadata": {},
     "output_type": "execute_result"
    },
    {
     "data": {
      "image/png": "[encoded data removed]",
      "text/plain": [
       "<Figure size 432x288 with 1 Axes>"
      ]
     },
     "metadata": {
      "needs_background": "light"
     },
     "output_type": "display_data"
    }
   ],
   "source": [
    "ax = sns.distplot(data, bins = 30, kde = False, color = 'blue',) #distribution plot\n",
    "ax.set(xlabel = 'Distribucion Poisson', ylabel = 'Frecuencia')\n",
    "ax.axvline(x = mean,linestyle = '--', label='Media')\n",
    "ax.legend()"
   ]
  },
  {
   "cell_type": "markdown",
   "metadata": {},
   "source": [
    " \n"
   ]
  },
  {
   "cell_type": "markdown",
   "metadata": {},
   "source": [
    " "
   ]
  },
  {
   "cell_type": "markdown",
   "metadata": {},
   "source": [
    " "
   ]
  },
  {
   "cell_type": "markdown",
   "metadata": {},
   "source": [
    "# Distribuciones de Mayor Aplicacion Continuas"
   ]
  },
  {
   "cell_type": "markdown",
   "metadata": {},
   "source": [
    "## Distribucion de Exponencial"
   ]
  },
  {
   "cell_type": "code",
   "execution_count": 22,
   "metadata": {},
   "outputs": [
    {
     "data": {
      "text/plain": [
       "100000000"
      ]
     },
     "execution_count": 22,
     "metadata": {},
     "output_type": "execute_result"
    }
   ],
   "source": [
    "from scipy.stats import expon\n",
    "data = expon.rvs(size=100000000)\n",
    "len(data)"
   ]
  },
  {
   "cell_type": "code",
   "execution_count": 23,
   "metadata": {},
   "outputs": [
    {
     "data": {
      "text/plain": [
       "(array(1.), array(1.), array(2.), array(6.))"
      ]
     },
     "execution_count": 23,
     "metadata": {},
     "output_type": "execute_result"
    }
   ],
   "source": [
    "mean, var, skew, kurt = expon.stats(moments = 'mvsk')\n",
    "mean, var, skew, kurt"
   ]
  },
  {
   "cell_type": "code",
   "execution_count": 24,
   "metadata": {},
   "outputs": [
    {
     "data": {
      "text/plain": [
       "<matplotlib.legend.Legend at 0x7f6dfa9b0ee0>"
      ]
     },
     "execution_count": 24,
     "metadata": {},
     "output_type": "execute_result"
    },
    {
     "data": {
      "image/png": "[encoded data removed]",
      "text/plain": [
       "<Figure size 432x288 with 1 Axes>"
      ]
     },
     "metadata": {
      "needs_background": "light"
     },
     "output_type": "display_data"
    }
   ],
   "source": [
    "ax = sns.distplot(data, bins = 500, kde = False, color = 'blue',) #distribution plot\n",
    "ax.set(xlabel = 'Distribucion Exponencial', ylabel = 'Frecuencia')\n",
    "ax.axvline(x = mean, linestyle = '--', label='Media')\n",
    "ax.legend()"
   ]
  },
  {
   "cell_type": "markdown",
   "metadata": {},
   "source": [
    "## Distribucion de Normal"
   ]
  },
  {
   "cell_type": "code",
   "execution_count": 25,
   "metadata": {},
   "outputs": [
    {
     "data": {
      "text/plain": [
       "100000000"
      ]
     },
     "execution_count": 25,
     "metadata": {},
     "output_type": "execute_result"
    }
   ],
   "source": [
    "from scipy.stats import norm\n",
    "mean = 0\n",
    "var = 1\n",
    "data = norm.rvs(size=100000000)\n",
    "len(data)"
   ]
  },
  {
   "cell_type": "code",
   "execution_count": 26,
   "metadata": {},
   "outputs": [
    {
     "data": {
      "text/plain": [
       "(array(0.), array(1.), array(0.), array(0.))"
      ]
     },
     "execution_count": 26,
     "metadata": {},
     "output_type": "execute_result"
    }
   ],
   "source": [
    "mean, var, skew, kurt = norm.stats(moments = 'mvsk')\n",
    "mean, var, skew, kurt"
   ]
  },
  {
   "cell_type": "code",
   "execution_count": 27,
   "metadata": {},
   "outputs": [
    {
     "data": {
      "text/plain": [
       "<matplotlib.legend.Legend at 0x7f6dfb192700>"
      ]
     },
     "execution_count": 27,
     "metadata": {},
     "output_type": "execute_result"
    },
    {
     "data": {
      "image/png": "[encoded data removed]",
      "text/plain": [
       "<Figure size 432x288 with 1 Axes>"
      ]
     },
     "metadata": {
      "needs_background": "light"
     },
     "output_type": "display_data"
    }
   ],
   "source": [
    "ax = sns.distplot(data, bins = 500, kde = False, color = 'blue',) #distribution plot\n",
    "ax.set(xlabel = 'Distribucion normal estandar', ylabel = 'Frecuencia')\n",
    "ax.axvline(x = mean, linestyle = '--', label='Media')\n",
    "ax.legend()"
   ]
  },
  {
   "cell_type": "markdown",
   "metadata": {},
   "source": [
    "Para toda distribucion normal, el 90% de los datos se encontraran entre -3 sigmas y +3 sigmas de diatancia"
   ]
  },
  {
   "cell_type": "markdown",
   "metadata": {},
   "source": [
    "## Distribucion Uniforme"
   ]
  },
  {
   "cell_type": "markdown",
   "metadata": {},
   "source": [
    "Distribucion uniforme asume que cada uno de los valores tiene la misma  probabilidad"
   ]
  },
  {
   "cell_type": "code",
   "execution_count": 28,
   "metadata": {},
   "outputs": [
    {
     "data": {
      "text/plain": [
       "100000000"
      ]
     },
     "execution_count": 28,
     "metadata": {},
     "output_type": "execute_result"
    }
   ],
   "source": [
    "from scipy.stats import uniform\n",
    "data = uniform.rvs(size=100000000)\n",
    "len(data)"
   ]
  },
  {
   "cell_type": "code",
   "execution_count": 29,
   "metadata": {},
   "outputs": [
    {
     "data": {
      "text/plain": [
       "(array(0.5), array(0.08333333), array(0.), array(-1.2))"
      ]
     },
     "execution_count": 29,
     "metadata": {},
     "output_type": "execute_result"
    }
   ],
   "source": [
    "mean, var, skew, kurt = uniform.stats(moments = 'mvsk')\n",
    "mean, var, skew, kurt"
   ]
  },
  {
   "cell_type": "code",
   "execution_count": 30,
   "metadata": {},
   "outputs": [
    {
     "data": {
      "text/plain": [
       "<matplotlib.legend.Legend at 0x7f6df9cc10a0>"
      ]
     },
     "execution_count": 30,
     "metadata": {},
     "output_type": "execute_result"
    },
    {
     "data": {
      "image/png": "[encoded data removed]",
      "text/plain": [
       "<Figure size 432x288 with 1 Axes>"
      ]
     },
     "metadata": {
      "needs_background": "light"
     },
     "output_type": "display_data"
    }
   ],
   "source": [
    "ax = sns.distplot(data, bins = 500, kde = False, color = 'blue',) #distribution plot\n",
    "ax.set(xlabel = 'Distribucion Uniforme 0 - 1', ylabel = 'Frecuencia')\n",
    "ax.axvline(x = mean, linestyle = '--', label='Media')\n",
    "ax.legend()"
   ]
  },
  {
   "cell_type": "code",
   "execution_count": null,
   "metadata": {},
   "outputs": [],
   "source": []
  }
 ],
 "metadata": {
  "kernelspec": {
   "display_name": "Python 3",
   "language": "python",
   "name": "python3"
  },
  "language_info": {
   "codemirror_mode": {
    "name": "ipython",
    "version": 3
   },
   "file_extension": ".py",
   "mimetype": "text/x-python",
   "name": "python",
   "nbconvert_exporter": "python",
   "pygments_lexer": "ipython3",
   "version": "3.8.2"
  }
 },
 "nbformat": 4,
 "nbformat_minor": 4
}
