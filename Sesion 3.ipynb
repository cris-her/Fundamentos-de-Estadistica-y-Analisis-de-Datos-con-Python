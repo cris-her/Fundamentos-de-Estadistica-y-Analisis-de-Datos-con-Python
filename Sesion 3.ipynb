{
 "cells": [
  {
   "cell_type": "code",
   "execution_count": 1,
   "metadata": {},
   "outputs": [],
   "source": [
    "import datetime\n",
    "from datetime import date\n",
    "import numpy as np"
   ]
  },
  {
   "cell_type": "markdown",
   "metadata": {},
   "source": [
    "#### repaso de tipos de datos y operadores Python"
   ]
  },
  {
   "cell_type": "markdown",
   "metadata": {},
   "source": [
    "Tipos de datos"
   ]
  },
  {
   "cell_type": "code",
   "execution_count": 8,
   "metadata": {},
   "outputs": [
    {
     "data": {
      "text/plain": [
       "str"
      ]
     },
     "execution_count": 8,
     "metadata": {},
     "output_type": "execute_result"
    }
   ],
   "source": [
    "type('1') #type(1.1)\n",
    "type(0) #int\n",
    "type(1.1) #float\n",
    "\n",
    "type(1.1 + 2)\n",
    "type('1.1' + '2')"
   ]
  },
  {
   "cell_type": "markdown",
   "metadata": {},
   "source": [
    "Tipos Operaciones mas sencillas"
   ]
  },
  {
   "cell_type": "code",
   "execution_count": 10,
   "metadata": {},
   "outputs": [
    {
     "data": {
      "text/plain": [
       "6"
      ]
     },
     "execution_count": 10,
     "metadata": {},
     "output_type": "execute_result"
    }
   ],
   "source": [
    "1 + 1\n",
    "1 - 1\n",
    "1 / 2\n",
    "1 % 2\n",
    "3**2\n",
    "3*2"
   ]
  },
  {
   "cell_type": "markdown",
   "metadata": {},
   "source": [
    "Operadores Logicos"
   ]
  },
  {
   "cell_type": "code",
   "execution_count": 11,
   "metadata": {},
   "outputs": [
    {
     "data": {
      "text/plain": [
       "True"
      ]
     },
     "execution_count": 11,
     "metadata": {},
     "output_type": "execute_result"
    }
   ],
   "source": [
    "(1 > 2) & (1 < 2)\n",
    "(1 > 2) | (1 < 2)"
   ]
  },
  {
   "cell_type": "code",
   "execution_count": 13,
   "metadata": {},
   "outputs": [
    {
     "data": {
      "text/plain": [
       "2"
      ]
     },
     "execution_count": 13,
     "metadata": {},
     "output_type": "execute_result"
    }
   ],
   "source": [
    "list1 = ['1', 0 , [1,2]]\n",
    "list1[2][1]"
   ]
  },
  {
   "cell_type": "markdown",
   "metadata": {},
   "source": [
    "#### Pensamiento probablilistico"
   ]
  },
  {
   "cell_type": "code",
   "execution_count": 15,
   "metadata": {},
   "outputs": [],
   "source": [
    "universo = ['cara', 'cruz']"
   ]
  },
  {
   "cell_type": "code",
   "execution_count": 19,
   "metadata": {},
   "outputs": [],
   "source": [
    "# probabilidad de bernoulli =  elnumero de casos favorables / casos totales\n",
    "p_cara = 1/2"
   ]
  },
  {
   "cell_type": "code",
   "execution_count": 53,
   "metadata": {},
   "outputs": [
    {
     "data": {
      "text/plain": [
       "'cara'"
      ]
     },
     "execution_count": 53,
     "metadata": {},
     "output_type": "execute_result"
    }
   ],
   "source": [
    "from scipy.stats import bernoulli\n",
    "\n",
    "# bernoulli devuelve 1 o 0 como probabilidad total\n",
    "universo[bernoulli.rvs(p=p_cara)]\n",
    "#rvs = random variable  sample"
   ]
  },
  {
   "cell_type": "code",
   "execution_count": 50,
   "metadata": {},
   "outputs": [
    {
     "data": {
      "text/plain": [
       "array([1, 1, 0, 1, 0, 0, 0, 0, 0, 1])"
      ]
     },
     "execution_count": 50,
     "metadata": {},
     "output_type": "execute_result"
    }
   ],
   "source": [
    "# repitiendo varias veces el experimento\n",
    "bernoulli.rvs(p=p_cara, size = 10)"
   ]
  },
  {
   "cell_type": "code",
   "execution_count": 51,
   "metadata": {},
   "outputs": [
    {
     "data": {
      "text/plain": [
       "7"
      ]
     },
     "execution_count": 51,
     "metadata": {},
     "output_type": "execute_result"
    }
   ],
   "source": [
    "# la sumade esos lanzamientos \n",
    "# Distribucion binomial: la suma de n experimentos independientes de bernoulli\n",
    "sum(bernoulli.rvs(p=p_cara, size = 10))"
   ]
  },
  {
   "cell_type": "code",
   "execution_count": 52,
   "metadata": {},
   "outputs": [],
   "source": [
    "from scipy.stats import binom"
   ]
  },
  {
   "cell_type": "code",
   "execution_count": 56,
   "metadata": {},
   "outputs": [
    {
     "data": {
      "text/plain": [
       "array([6, 3, 5, 2, 6, 5, 4, 5, 7, 4, 7, 7, 6, 4, 9, 6, 5, 3, 6, 4, 1, 2,\n",
       "       4, 1, 2, 3, 5, 4, 7, 5, 2, 2, 5, 5, 8, 2, 8, 7, 3, 4, 3, 6, 5, 3,\n",
       "       6, 3, 7, 8, 5, 3, 5, 2, 6, 3, 7, 4, 3, 6, 4, 4, 5, 7, 3, 7, 9, 5,\n",
       "       5, 6, 5, 7, 5, 5, 7, 3, 3, 2, 6, 5, 6, 5, 4, 3, 6, 7, 6, 5, 6, 4,\n",
       "       5, 5, 5, 6, 4, 4, 7, 6, 5, 4, 4, 6])"
      ]
     },
     "execution_count": 56,
     "metadata": {},
     "output_type": "execute_result"
    }
   ],
   "source": [
    "# probabilidad asociada a cara, num de lanzamientos, numero de experimenos\n",
    "binom.rvs(p=p_cara, n = 10, size=100)\n",
    "\n",
    "#con esto identificamos los valores repeditos (distribucion de la probabilidad)"
   ]
  },
  {
   "cell_type": "markdown",
   "metadata": {},
   "source": [
    "#### Pandas para interpretacion"
   ]
  },
  {
   "cell_type": "code",
   "execution_count": 101,
   "metadata": {},
   "outputs": [
    {
     "data": {
      "text/plain": [
       "0     3\n",
       "1     2\n",
       "2     5\n",
       "3     4\n",
       "4     6\n",
       "     ..\n",
       "95    7\n",
       "96    6\n",
       "97    7\n",
       "98    7\n",
       "99    3\n",
       "Length: 100, dtype: int64"
      ]
     },
     "execution_count": 101,
     "metadata": {},
     "output_type": "execute_result"
    }
   ],
   "source": [
    "import pandas as pd\n",
    "\n",
    "experimento = pd.Series(binom.rvs(p=p_cara, n = 10, size=100))\n",
    "experimento"
   ]
  },
  {
   "cell_type": "code",
   "execution_count": 102,
   "metadata": {},
   "outputs": [
    {
     "data": {
      "text/plain": [
       "5     27\n",
       "4     19\n",
       "6     18\n",
       "3     16\n",
       "7      8\n",
       "8      5\n",
       "2      4\n",
       "10     1\n",
       "1      1\n",
       "0      1\n",
       "dtype: int64"
      ]
     },
     "execution_count": 102,
     "metadata": {},
     "output_type": "execute_result"
    }
   ],
   "source": [
    "#observamos la frecuencia en que mas se repiten los  experimentos\n",
    "experimento.value_counts()"
   ]
  },
  {
   "cell_type": "code",
   "execution_count": 104,
   "metadata": {},
   "outputs": [
    {
     "data": {
      "text/plain": [
       "5     0.27\n",
       "4     0.19\n",
       "6     0.18\n",
       "3     0.16\n",
       "7     0.08\n",
       "8     0.05\n",
       "2     0.04\n",
       "10    0.01\n",
       "1     0.01\n",
       "0     0.01\n",
       "dtype: float64"
      ]
     },
     "execution_count": 104,
     "metadata": {},
     "output_type": "execute_result"
    }
   ],
   "source": [
    "# lo convertimos en probabilidad diviviendo entre el numero de casos\n",
    "experimento.value_counts()/100"
   ]
  },
  {
   "cell_type": "code",
   "execution_count": null,
   "metadata": {},
   "outputs": [],
   "source": []
  }
 ],
 "metadata": {
  "kernelspec": {
   "display_name": "Python 3",
   "language": "python",
   "name": "python3"
  },
  "language_info": {
   "codemirror_mode": {
    "name": "ipython",
    "version": 3
   },
   "file_extension": ".py",
   "mimetype": "text/x-python",
   "name": "python",
   "nbconvert_exporter": "python",
   "pygments_lexer": "ipython3",
   "version": "3.8.2"
  }
 },
 "nbformat": 4,
 "nbformat_minor": 4
}
